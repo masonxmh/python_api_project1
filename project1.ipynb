{
 "cells": [
  {
   "cell_type": "code",
   "execution_count": 2,
   "metadata": {},
   "outputs": [],
   "source": [
    "# # Dependencies and Setup\n",
    "import matplotlib.pyplot as plt\n",
    "import pandas as pd\n",
    "import numpy as np\n",
    "import requests\n",
    "import time\n",
    "import sys\n",
    "# Import API key\n",
    "from api_keys import api_key\n",
    "#Read csv data set\n",
    "tmdb_5000_movies = \"Resources/tmdb_5000_movies.csv\"\n",
    "release_dates_per_country=\"Resources/release_dates_per_country.csv\"\n",
    "tmdb_data=pd.read_csv(tmdb_5000_movies)\n",
    "release_data=pd.read_csv(release_dates_per_country)\n",
    "#output data path\n",
    "output_data_file = \"output_data/tmd_api_movie.csv\""
   ]
  },
  {
   "cell_type": "code",
   "execution_count": 3,
   "metadata": {},
   "outputs": [
    {
     "name": "stdout",
     "output_type": "stream",
     "text": [
      "8798\n",
      "[     0      5      6 ... 559250 573531 575273]\n"
     ]
    }
   ],
   "source": [
    "#Generate movie id list\n",
    "movie_5000_id = tmdb_data[\"id\"].tolist()\n",
    "movie_release_id =release_data[\"movie_id\"].tolist()\n",
    "#Combine movie id list by unique values\n",
    "movie_id=np.unique(movie_5000_id+movie_release_id)\n",
    "print(len(movie_id))\n",
    "#check the id to see if there is some value other than integer\n",
    "print(movie_id)"
   ]
  },
  {
   "cell_type": "code",
   "execution_count": null,
   "metadata": {},
   "outputs": [],
   "source": [
    "# #test cell\n",
    "# base_url = \"https://api.themoviedb.org/3/discover/movie/\"\n",
    "# url=base_url+\"?api_key=\"+api_key+\"&language=en-US\"+\"&primary_release_date.gte=2019-01-01&primary_release_date.lte=2019-01-01\"\n",
    "# response=requests.get(url).json()\n",
    "# m_list=[]\n",
    "# print(response[\"total_results\"])"
   ]
  },
  {
   "cell_type": "code",
   "execution_count": 4,
   "metadata": {},
   "outputs": [
    {
     "name": "stdout",
     "output_type": "stream",
     "text": [
      "https://api.themoviedb.org/3/movie/290?api_key=1a73cd8c9dab961715e0c0320108d3cb&language=en-US\n"
     ]
    }
   ],
   "source": [
    "#test api key to see the api structure in chrome\n",
    "base_url = \"https://api.themoviedb.org/3/movie/\"\n",
    "url=base_url+str(290)+\"?api_key=\"+api_key+\"&language=en-US\"\n",
    "response=requests.get(url).json()\n",
    "print(url)"
   ]
  },
  {
   "cell_type": "code",
   "execution_count": 5,
   "metadata": {},
   "outputs": [
    {
     "name": "stdout",
     "output_type": "stream",
     "text": [
      "Beginning Data Retrieval\n",
      "\n",
      "------------------------------\n",
      "Processing Record 8787\n",
      "Data Retrieval Complete\n",
      "\n",
      "------------------------------\n",
      "Movie Found 8787\n"
     ]
    }
   ],
   "source": [
    "#initial counter\n",
    "record_counter=0\n",
    "set_counter=1\n",
    "\n",
    "#define list\n",
    "id_list=[]\n",
    "title_list=[]\n",
    "adult_list=[]\n",
    "budget_list=[]\n",
    "genres_list=[]\n",
    "language_list=[]\n",
    "pop_list=[]\n",
    "company_list=[]\n",
    "country_list=[]\n",
    "release_date_list=[]\n",
    "revenue_list=[]\n",
    "run_time_list=[]\n",
    "vote_ave_list=[]\n",
    "vote_count_list=[]\n",
    "\n",
    "base_url = \"https://api.themoviedb.org/3/movie/\"\n",
    "\n",
    "print(\"Beginning Data Retrieval\\n\")\n",
    "print(\"-\"*30)\n",
    "#Scrap data from api\n",
    "for m_id in movie_id:\n",
    "    try:\n",
    "        url=base_url+str(m_id)+\"?api_key=\"+api_key#+\"&language=en-US\"\n",
    "        response=requests.get(url).json()\n",
    "        id_list.append(response[\"id\"])\n",
    "        title_list.append(response[\"title\"])\n",
    "        adult_list.append(response[\"adult\"])\n",
    "        budget_list.append(response[\"budget\"])\n",
    "        genres_list.append([i[\"name\"] for i in response[\"genres\"]])\n",
    "        language_list.append(response[\"original_language\"])\n",
    "        pop_list.append(response[\"popularity\"])\n",
    "        company_list.append([j[\"name\"] for j in response[\"production_companies\"]])\n",
    "        country_list.append([k[\"name\"] for k in response[\"production_countries\"]])\n",
    "        release_date_list.append(response[\"release_date\"])\n",
    "        revenue_list.append(response[\"revenue\"])\n",
    "        run_time_list.append(response[\"runtime\"])\n",
    "        vote_ave_list.append(response[\"vote_average\"])\n",
    "        vote_count_list.append(response[\"vote_count\"])\n",
    "        \n",
    "        record_counter+=1\n",
    "        sys.stdout.write('\\r'+'Processing Record '+str(record_counter))\n",
    "        sys.stdout.flush()\n",
    "#         if record_counter==1000:  # test loop use only\n",
    "#             break\n",
    "#        if record_counter==51:\n",
    "#             record_counter=1\n",
    "#             set_counter+=1\n",
    "#        print(\"Processing Record \"+str(record_counter)+\" | Movie ID\"+ str(m_id))\n",
    "\n",
    "    except:\n",
    "        pass\n",
    "\n",
    "#        print(\"Movie not found. Skipping ...\")\n",
    "#print (\"-\"*30)\n",
    "print (\"\\nData Retrieval Complete\\n\")\n",
    "print (\"-\"*30)\n",
    "print (\"Movie Found \"+str(record_counter))"
   ]
  },
  {
   "cell_type": "code",
   "execution_count": null,
   "metadata": {},
   "outputs": [],
   "source": []
  },
  {
   "cell_type": "code",
   "execution_count": null,
   "metadata": {},
   "outputs": [],
   "source": []
  },
  {
   "cell_type": "code",
   "execution_count": null,
   "metadata": {},
   "outputs": [],
   "source": [
    "movie_df=pd.DataFrame({\"ID\":id_list,\n",
    "                       \"Title\": title_list,\n",
    "                       \"Adult\":adult_list,\n",
    "                       \"Budget\":budget_list,\n",
    "                           \"Genres\":genres_list,\n",
    "                         \"Language\":language_list,\n",
    "                          \"Production Company\":company_list,\n",
    "                         \"Popularity\":pop_list,\n",
    "                          \"Revenue\":revenue_list,\n",
    "                            \"Production Country\":country_list,\n",
    "                          \"Release Date\":release_date_list,\n",
    "                          \"Run Time\":run_time_list,\n",
    "                          \"Vote Average\":vote_ave_list,\n",
    "                        \"Vote Count\":vote_count_list})\n",
    "movie_df"
   ]
  },
  {
   "cell_type": "code",
   "execution_count": null,
   "metadata": {},
   "outputs": [],
   "source": [
    "#save data frame to csv\n",
    "movie_df.to_csv(\"output_data/tmd_api_movie_original.csv\",index=False)"
   ]
  },
  {
   "cell_type": "code",
   "execution_count": null,
   "metadata": {},
   "outputs": [],
   "source": [
    "# genre_df=pd.DataFrame(movie_df[\"Genres\"].values.tolist(), columns = [\"Genre1\", \"Genre2\", \"Genre3\",\n",
    "#                                                                     \"Genre4\",\"Genre5\",\"Genre6\",\"Genre7\",\"Genre8\"])\n",
    "# company_df=pd.DataFrame(movie_df[\"Production Company\"].values.tolist(),columns = [\"company1\",\"company2\",\"company3\",\"company4\",\"company5\",\"company6\",\"company7\",\"company8\",\"company9\",\"company10\",\"company11\",\"company12\",\"company13\",\n",
    "#                                                                                   \"company14\",\"company15\",\"company16\",\"company17\",\"company18\",\"company19\",\"company20\",\"company21\",\"company22\",\"company23\",\"company24\",\"company25\",\"company26\"])\n",
    "# #country_df=pd.DataFrame(movie_df[\"Production Country\"].values.tolist(),columns=[\"Country1\",\"Country2\",\"Country3\"])\n"
   ]
  },
  {
   "cell_type": "code",
   "execution_count": null,
   "metadata": {},
   "outputs": [],
   "source": [
    "# movie_final_df = pd.concat([movie_df,genre_df,company_df],axis=1)\n",
    "# movie_final_df = movie_final_df.drop([\"Genres\",\"Production Company\"], axis = 1)\n",
    "# movie_final_df.head()"
   ]
  },
  {
   "cell_type": "code",
   "execution_count": null,
   "metadata": {},
   "outputs": [],
   "source": []
  },
  {
   "cell_type": "code",
   "execution_count": null,
   "metadata": {},
   "outputs": [],
   "source": [
    "# #save data frame to csv\n",
    "# movie_final_df.to_csv(\"output_data/tmd_api_movie.csv\",index=False)"
   ]
  },
  {
   "cell_type": "code",
   "execution_count": null,
   "metadata": {},
   "outputs": [],
   "source": []
  },
  {
   "cell_type": "code",
   "execution_count": null,
   "metadata": {},
   "outputs": [],
   "source": []
  },
  {
   "cell_type": "code",
   "execution_count": null,
   "metadata": {},
   "outputs": [],
   "source": []
  }
 ],
 "metadata": {
  "kernelspec": {
   "display_name": "Python 3",
   "language": "python",
   "name": "python3"
  },
  "language_info": {
   "codemirror_mode": {
    "name": "ipython",
    "version": 3
   },
   "file_extension": ".py",
   "mimetype": "text/x-python",
   "name": "python",
   "nbconvert_exporter": "python",
   "pygments_lexer": "ipython3",
   "version": "3.7.3"
  }
 },
 "nbformat": 4,
 "nbformat_minor": 4
}
