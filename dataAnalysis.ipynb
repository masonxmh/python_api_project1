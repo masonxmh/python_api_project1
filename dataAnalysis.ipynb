{
 "cells": [
  {
   "cell_type": "markdown",
   "metadata": {},
   "source": [
    "### Data Analysis"
   ]
  },
  {
   "cell_type": "markdown",
   "metadata": {},
   "source": [
    "#### Initial Dependencies"
   ]
  },
  {
   "cell_type": "code",
   "execution_count": 1,
   "metadata": {},
   "outputs": [],
   "source": [
    "# Dependencies and Setup\n",
    "%matplotlib inline\n",
    "import matplotlib.pyplot as plt\n",
    "import matplotlib.patches as mpatches\n",
    "import pandas as pd\n",
    "import numpy as np\n",
    "import seaborn as sns\n",
    "\n",
    "# ignore some warnings if dataframe is changing\n",
    "import warnings\n",
    "warnings.filterwarnings('ignore')"
   ]
  },
  {
   "cell_type": "markdown",
   "metadata": {},
   "source": [
    "#### Preview DataFrame"
   ]
  },
  {
   "cell_type": "code",
   "execution_count": 2,
   "metadata": {},
   "outputs": [
    {
     "data": {
      "text/plain": [
       "Index(['Title', 'Adult', 'Budget', 'Genres', 'Production Company',\n",
       "       'Popularity', 'Revenue', 'Production Country', 'Run Time',\n",
       "       'Vote Average', 'Vote Count', 'Genre1', 'Genre2', 'Genre3', 'Genre4',\n",
       "       'Genre5', 'Genre6', 'Genre7', 'Rated', 'omdb_released', 'omdb_runtime',\n",
       "       'Director', 'Actors', 'Language', 'omdb_country', 'Metascore',\n",
       "       'IMDB Rating', 'IMDB Votes'],\n",
       "      dtype='object')"
      ]
     },
     "execution_count": 2,
     "metadata": {},
     "output_type": "execute_result"
    }
   ],
   "source": [
    "df = pd.read_csv(\"output_data/cleanup_movie_2019.csv\")\n",
    "df.columns"
   ]
  },
  {
   "cell_type": "markdown",
   "metadata": {},
   "source": [
    "#### Movie Runtime Analysis (Jun`s Part)"
   ]
  },
  {
   "cell_type": "code",
   "execution_count": 3,
   "metadata": {},
   "outputs": [],
   "source": [
    "clean_df = df[['Title','Genres','omdb_released','omdb_runtime','omdb_country',\n",
    "               'IMDB Rating','IMDB Votes','Revenue']]"
   ]
  },
  {
   "cell_type": "code",
   "execution_count": 4,
   "metadata": {},
   "outputs": [
    {
     "data": {
      "text/html": [
       "<div>\n",
       "<style scoped>\n",
       "    .dataframe tbody tr th:only-of-type {\n",
       "        vertical-align: middle;\n",
       "    }\n",
       "\n",
       "    .dataframe tbody tr th {\n",
       "        vertical-align: top;\n",
       "    }\n",
       "\n",
       "    .dataframe thead th {\n",
       "        text-align: right;\n",
       "    }\n",
       "</style>\n",
       "<table border=\"1\" class=\"dataframe\">\n",
       "  <thead>\n",
       "    <tr style=\"text-align: right;\">\n",
       "      <th></th>\n",
       "      <th>Title</th>\n",
       "      <th>Genres</th>\n",
       "      <th>omdb_released</th>\n",
       "      <th>omdb_runtime</th>\n",
       "      <th>omdb_country</th>\n",
       "      <th>IMDB Rating</th>\n",
       "      <th>IMDB Votes</th>\n",
       "      <th>Revenue</th>\n",
       "    </tr>\n",
       "  </thead>\n",
       "  <tbody>\n",
       "    <tr>\n",
       "      <th>0</th>\n",
       "      <td>Joker</td>\n",
       "      <td>['Crime', 'Thriller', 'Drama']</td>\n",
       "      <td>04 Oct 2019</td>\n",
       "      <td>122 min</td>\n",
       "      <td>USA, Canada</td>\n",
       "      <td>8.9</td>\n",
       "      <td>360,218</td>\n",
       "      <td>788300000.0</td>\n",
       "    </tr>\n",
       "  </tbody>\n",
       "</table>\n",
       "</div>"
      ],
      "text/plain": [
       "   Title                          Genres omdb_released omdb_runtime  \\\n",
       "0  Joker  ['Crime', 'Thriller', 'Drama']   04 Oct 2019      122 min   \n",
       "\n",
       "  omdb_country  IMDB Rating IMDB Votes      Revenue  \n",
       "0  USA, Canada          8.9    360,218  788300000.0  "
      ]
     },
     "execution_count": 4,
     "metadata": {},
     "output_type": "execute_result"
    }
   ],
   "source": [
    "clean_df.head(1)"
   ]
  },
  {
   "cell_type": "code",
   "execution_count": 5,
   "metadata": {},
   "outputs": [
    {
     "name": "stdout",
     "output_type": "stream",
     "text": [
      "<class 'pandas.core.frame.DataFrame'>\n",
      "RangeIndex: 9997 entries, 0 to 9996\n",
      "Data columns (total 8 columns):\n",
      "Title            9997 non-null object\n",
      "Genres           9997 non-null object\n",
      "omdb_released    9617 non-null datetime64[ns]\n",
      "omdb_runtime     9531 non-null object\n",
      "omdb_country     9665 non-null object\n",
      "IMDB Rating      9557 non-null float64\n",
      "IMDB Votes       9557 non-null object\n",
      "Revenue          2943 non-null float64\n",
      "dtypes: datetime64[ns](1), float64(2), object(5)\n",
      "memory usage: 624.9+ KB\n",
      "None\n"
     ]
    }
   ],
   "source": [
    "clean_df['omdb_released'] =  pd.to_datetime(clean_df['omdb_released'])\n",
    "print(clean_df.info())"
   ]
  },
  {
   "cell_type": "code",
   "execution_count": 6,
   "metadata": {},
   "outputs": [],
   "source": [
    "clean_df = clean_df.dropna(how='any').sort_values('omdb_released',ascending=True)\n",
    "clean_df = clean_df.rename(columns={'omdb_title':'Title','omdb_released':'Release Date',\n",
    "                                    'omdb_runtime':'Runtime (min)','omdb_country':'Country',\n",
    "                                    'omdb_imdbRating':'imdb_Rating','omdb_imdbVotes':'imdb_Votes'})\n",
    "\n",
    "clean_df = clean_df[clean_df['Release Date'].isin(pd.date_range(start='2009', end='20191028'))]"
   ]
  },
  {
   "cell_type": "code",
   "execution_count": 7,
   "metadata": {},
   "outputs": [],
   "source": [
    "clean_df['Runtime (min)'] = clean_df['Runtime (min)'].str.replace(' min','').astype(np.uint8)"
   ]
  },
  {
   "cell_type": "code",
   "execution_count": 8,
   "metadata": {},
   "outputs": [],
   "source": [
    "clean_df = clean_df[clean_df.Country.str.contains(\"USA\")]"
   ]
  },
  {
   "cell_type": "code",
   "execution_count": 9,
   "metadata": {},
   "outputs": [],
   "source": [
    "group_mean_df = clean_df[['Release Date', 'Runtime (min)']]\n",
    "group_mean_df['Release Date'] = group_mean_df['Release Date'].dt.strftime('%Y')\n",
    "group_mean_df = group_mean_df.groupby('Release Date').mean().reset_index()"
   ]
  },
  {
   "cell_type": "code",
   "execution_count": 10,
   "metadata": {},
   "outputs": [
    {
     "name": "stdout",
     "output_type": "stream",
     "text": [
      "106.31640808650681\n"
     ]
    }
   ],
   "source": [
    "avg_runtime = clean_df['Runtime (min)'].mean()\n",
    "print(avg_runtime)"
   ]
  },
  {
   "cell_type": "code",
   "execution_count": 11,
   "metadata": {},
   "outputs": [],
   "source": [
    "group_all_df = clean_df[['Release Date', 'Runtime (min)']]"
   ]
  },
  {
   "cell_type": "code",
   "execution_count": 14,
   "metadata": {},
   "outputs": [
    {
     "data": {
      "image/png": "[encoded data removed]",
      "text/plain": [
       "<Figure size 432x288 with 1 Axes>"
      ]
     },
     "metadata": {
      "needs_background": "light"
     },
     "output_type": "display_data"
    }
   ],
   "source": [
    "plt.scatter(group_all_df['Release Date'],group_all_df['Runtime (min)'], alpha=0.2,edgecolors='g',s=20 )\n",
    "plt.scatter(group_mean_df['Release Date'],group_mean_df['Runtime (min)'],alpha=0.8,c='r',edgecolors='y',s=50)\n",
    "plt.xlabel('Release Year (2009-2019)')\n",
    "plt.xlim('2008','2020')\n",
    "plt.ylabel('Runtime (min)')\n",
    "plt.title('Runtime Length over Decade')\n",
    "green_scatter = mpatches.Patch(color='g', label='Daily Raw')\n",
    "red_scatter = mpatches.Patch(color='r', label='Yearly Mean')\n",
    "plt.legend(handles=[green_scatter,red_scatter])\n",
    "\n",
    "plt.savefig(\"Output_Data/Release_vs_Runtime.png\")\n",
    "\n",
    "plt.show()"
   ]
  },
  {
   "cell_type": "code",
   "execution_count": 15,
   "metadata": {},
   "outputs": [
    {
     "data": {
      "text/html": [
       "<div>\n",
       "<style scoped>\n",
       "    .dataframe tbody tr th:only-of-type {\n",
       "        vertical-align: middle;\n",
       "    }\n",
       "\n",
       "    .dataframe tbody tr th {\n",
       "        vertical-align: top;\n",
       "    }\n",
       "\n",
       "    .dataframe thead th {\n",
       "        text-align: right;\n",
       "    }\n",
       "</style>\n",
       "<table border=\"1\" class=\"dataframe\">\n",
       "  <thead>\n",
       "    <tr style=\"text-align: right;\">\n",
       "      <th></th>\n",
       "      <th>Title</th>\n",
       "      <th>Genres</th>\n",
       "      <th>Release Date</th>\n",
       "      <th>Runtime (min)</th>\n",
       "      <th>Country</th>\n",
       "      <th>IMDB Rating</th>\n",
       "      <th>IMDB Votes</th>\n",
       "      <th>Revenue</th>\n",
       "    </tr>\n",
       "  </thead>\n",
       "  <tbody>\n",
       "    <tr>\n",
       "      <th>1467</th>\n",
       "      <td>Bride Wars</td>\n",
       "      <td>['Comedy', 'Romance']</td>\n",
       "      <td>2009-01-09</td>\n",
       "      <td>89</td>\n",
       "      <td>USA</td>\n",
       "      <td>5.5</td>\n",
       "      <td>95,747</td>\n",
       "      <td>114663461.0</td>\n",
       "    </tr>\n",
       "    <tr>\n",
       "      <th>1966</th>\n",
       "      <td>The Unborn</td>\n",
       "      <td>['Horror', 'Thriller', 'Mystery']</td>\n",
       "      <td>2009-01-09</td>\n",
       "      <td>88</td>\n",
       "      <td>USA</td>\n",
       "      <td>4.8</td>\n",
       "      <td>47,407</td>\n",
       "      <td>76514050.0</td>\n",
       "    </tr>\n",
       "    <tr>\n",
       "      <th>2429</th>\n",
       "      <td>Hotel for Dogs</td>\n",
       "      <td>['Comedy', 'Family']</td>\n",
       "      <td>2009-01-16</td>\n",
       "      <td>100</td>\n",
       "      <td>Germany, USA</td>\n",
       "      <td>5.4</td>\n",
       "      <td>20,204</td>\n",
       "      <td>117000198.0</td>\n",
       "    </tr>\n",
       "    <tr>\n",
       "      <th>3920</th>\n",
       "      <td>My Bloody Valentine</td>\n",
       "      <td>['Mystery', 'Horror']</td>\n",
       "      <td>2009-01-16</td>\n",
       "      <td>101</td>\n",
       "      <td>USA</td>\n",
       "      <td>5.4</td>\n",
       "      <td>51,333</td>\n",
       "      <td>102836002.0</td>\n",
       "    </tr>\n",
       "    <tr>\n",
       "      <th>2704</th>\n",
       "      <td>Notorious</td>\n",
       "      <td>['Drama', 'Music', 'History']</td>\n",
       "      <td>2009-01-16</td>\n",
       "      <td>122</td>\n",
       "      <td>USA</td>\n",
       "      <td>6.7</td>\n",
       "      <td>38,659</td>\n",
       "      <td>43051547.0</td>\n",
       "    </tr>\n",
       "  </tbody>\n",
       "</table>\n",
       "</div>"
      ],
      "text/plain": [
       "                    Title                             Genres Release Date  \\\n",
       "1467           Bride Wars              ['Comedy', 'Romance']   2009-01-09   \n",
       "1966           The Unborn  ['Horror', 'Thriller', 'Mystery']   2009-01-09   \n",
       "2429       Hotel for Dogs               ['Comedy', 'Family']   2009-01-16   \n",
       "3920  My Bloody Valentine              ['Mystery', 'Horror']   2009-01-16   \n",
       "2704            Notorious      ['Drama', 'Music', 'History']   2009-01-16   \n",
       "\n",
       "      Runtime (min)       Country  IMDB Rating IMDB Votes      Revenue  \n",
       "1467             89           USA          5.5     95,747  114663461.0  \n",
       "1966             88           USA          4.8     47,407   76514050.0  \n",
       "2429            100  Germany, USA          5.4     20,204  117000198.0  \n",
       "3920            101           USA          5.4     51,333  102836002.0  \n",
       "2704            122           USA          6.7     38,659   43051547.0  "
      ]
     },
     "execution_count": 15,
     "metadata": {},
     "output_type": "execute_result"
    }
   ],
   "source": [
    "clean_df.head()"
   ]
  },
  {
   "cell_type": "code",
   "execution_count": 35,
   "metadata": {},
   "outputs": [],
   "source": [
    "genre_df = clean_df[['Release Date','Genres']]\n",
    "new_df= pd.DataFrame(genre_df.Genres.str.split(\",\").tolist(), index=genre_df['Release Date']).stack()\n",
    "new_df = new_df.str.replace(r'[^a-zA-Z]\\s?',r'',regex=True)"
   ]
  },
  {
   "cell_type": "code",
   "execution_count": 36,
   "metadata": {},
   "outputs": [],
   "source": [
    "genre_date_df = new_df.reset_index([0,'Release Date'])\n",
    "genre_date_df.columns = ['Release Date','Genres']\n",
    "genre_date_df['Release Date'] = genre_date_df['Release Date'].dt.strftime('%Y')"
   ]
  },
  {
   "cell_type": "code",
   "execution_count": 37,
   "metadata": {},
   "outputs": [],
   "source": [
    "genre_date_df['Genres'].replace('', np.nan, inplace=True)\n",
    "genre_date_df.dropna(subset=['Genres'],inplace=True,how='any')"
   ]
  },
  {
   "cell_type": "code",
   "execution_count": 38,
   "metadata": {},
   "outputs": [],
   "source": [
    "group_genre_df = genre_date_df.groupby('Release Date')['Genres'].value_counts()\n",
    "group_genre_df = group_genre_df.to_frame(name='Total Count').reset_index()\n",
    "#group_genre_df = group_genre_df[group_genre_df['Total Count'] >= 50]"
   ]
  },
  {
   "cell_type": "code",
   "execution_count": 39,
   "metadata": {},
   "outputs": [],
   "source": [
    "group_genre_pivot = group_genre_df.pivot(index='Genres',columns='Release Date',values='Total Count').fillna(value=0)"
   ]
  },
  {
   "cell_type": "code",
   "execution_count": 40,
   "metadata": {},
   "outputs": [
    {
     "data": {
      "text/html": [
       "<div>\n",
       "<style scoped>\n",
       "    .dataframe tbody tr th:only-of-type {\n",
       "        vertical-align: middle;\n",
       "    }\n",
       "\n",
       "    .dataframe tbody tr th {\n",
       "        vertical-align: top;\n",
       "    }\n",
       "\n",
       "    .dataframe thead th {\n",
       "        text-align: right;\n",
       "    }\n",
       "</style>\n",
       "<table border=\"1\" class=\"dataframe\">\n",
       "  <thead>\n",
       "    <tr style=\"text-align: right;\">\n",
       "      <th>Release Date</th>\n",
       "      <th>2009</th>\n",
       "      <th>2010</th>\n",
       "      <th>2011</th>\n",
       "      <th>2012</th>\n",
       "      <th>2013</th>\n",
       "      <th>2014</th>\n",
       "      <th>2015</th>\n",
       "      <th>2016</th>\n",
       "      <th>2017</th>\n",
       "      <th>2018</th>\n",
       "      <th>2019</th>\n",
       "      <th>Total</th>\n",
       "    </tr>\n",
       "    <tr>\n",
       "      <th>Genres</th>\n",
       "      <th></th>\n",
       "      <th></th>\n",
       "      <th></th>\n",
       "      <th></th>\n",
       "      <th></th>\n",
       "      <th></th>\n",
       "      <th></th>\n",
       "      <th></th>\n",
       "      <th></th>\n",
       "      <th></th>\n",
       "      <th></th>\n",
       "      <th></th>\n",
       "    </tr>\n",
       "  </thead>\n",
       "  <tbody>\n",
       "  </tbody>\n",
       "</table>\n",
       "</div>"
      ],
      "text/plain": [
       "Empty DataFrame\n",
       "Columns: [2009, 2010, 2011, 2012, 2013, 2014, 2015, 2016, 2017, 2018, 2019, Total]\n",
       "Index: []"
      ]
     },
     "execution_count": 40,
     "metadata": {},
     "output_type": "execute_result"
    }
   ],
   "source": [
    "group_genre_pivot['Total'] = group_genre_pivot.T.sum()\n",
    "group_genre_pivot = group_genre_pivot[group_genre_pivot['Total'] >= 1000]\n",
    "group_genre_pivot"
   ]
  },
  {
   "cell_type": "code",
   "execution_count": 41,
   "metadata": {},
   "outputs": [
    {
     "data": {
      "text/html": [
       "<div>\n",
       "<style scoped>\n",
       "    .dataframe tbody tr th:only-of-type {\n",
       "        vertical-align: middle;\n",
       "    }\n",
       "\n",
       "    .dataframe tbody tr th {\n",
       "        vertical-align: top;\n",
       "    }\n",
       "\n",
       "    .dataframe thead th {\n",
       "        text-align: right;\n",
       "    }\n",
       "</style>\n",
       "<table border=\"1\" class=\"dataframe\">\n",
       "  <thead>\n",
       "    <tr style=\"text-align: right;\">\n",
       "      <th>Genres</th>\n",
       "    </tr>\n",
       "    <tr>\n",
       "      <th>Release Date</th>\n",
       "    </tr>\n",
       "  </thead>\n",
       "  <tbody>\n",
       "    <tr>\n",
       "      <th>2009</th>\n",
       "    </tr>\n",
       "    <tr>\n",
       "      <th>2010</th>\n",
       "    </tr>\n",
       "    <tr>\n",
       "      <th>2011</th>\n",
       "    </tr>\n",
       "    <tr>\n",
       "      <th>2012</th>\n",
       "    </tr>\n",
       "    <tr>\n",
       "      <th>2013</th>\n",
       "    </tr>\n",
       "    <tr>\n",
       "      <th>2014</th>\n",
       "    </tr>\n",
       "    <tr>\n",
       "      <th>2015</th>\n",
       "    </tr>\n",
       "    <tr>\n",
       "      <th>2016</th>\n",
       "    </tr>\n",
       "    <tr>\n",
       "      <th>2017</th>\n",
       "    </tr>\n",
       "    <tr>\n",
       "      <th>2018</th>\n",
       "    </tr>\n",
       "    <tr>\n",
       "      <th>2019</th>\n",
       "    </tr>\n",
       "  </tbody>\n",
       "</table>\n",
       "</div>"
      ],
      "text/plain": [
       "Empty DataFrame\n",
       "Columns: []\n",
       "Index: [2009, 2010, 2011, 2012, 2013, 2014, 2015, 2016, 2017, 2018, 2019]"
      ]
     },
     "execution_count": 41,
     "metadata": {},
     "output_type": "execute_result"
    }
   ],
   "source": [
    "group_genre_T = group_genre_pivot.T\n",
    "group_genre_T = group_genre_T[:-1]\n",
    "group_genre_T"
   ]
  },
  {
   "cell_type": "code",
   "execution_count": 33,
   "metadata": {},
   "outputs": [
    {
     "ename": "KeyError",
     "evalue": "'Action'",
     "output_type": "error",
     "traceback": [
      "\u001b[1;31m---------------------------------------------------------------------------\u001b[0m",
      "\u001b[1;31mKeyError\u001b[0m                                  Traceback (most recent call last)",
      "\u001b[1;32m~\\Anaconda3\\lib\\site-packages\\pandas\\core\\indexes\\base.py\u001b[0m in \u001b[0;36mget_loc\u001b[1;34m(self, key, method, tolerance)\u001b[0m\n\u001b[0;32m   2656\u001b[0m             \u001b[1;32mtry\u001b[0m\u001b[1;33m:\u001b[0m\u001b[1;33m\u001b[0m\u001b[1;33m\u001b[0m\u001b[0m\n\u001b[1;32m-> 2657\u001b[1;33m                 \u001b[1;32mreturn\u001b[0m \u001b[0mself\u001b[0m\u001b[1;33m.\u001b[0m\u001b[0m_engine\u001b[0m\u001b[1;33m.\u001b[0m\u001b[0mget_loc\u001b[0m\u001b[1;33m(\u001b[0m\u001b[0mkey\u001b[0m\u001b[1;33m)\u001b[0m\u001b[1;33m\u001b[0m\u001b[1;33m\u001b[0m\u001b[0m\n\u001b[0m\u001b[0;32m   2658\u001b[0m             \u001b[1;32mexcept\u001b[0m \u001b[0mKeyError\u001b[0m\u001b[1;33m:\u001b[0m\u001b[1;33m\u001b[0m\u001b[1;33m\u001b[0m\u001b[0m\n",
      "\u001b[1;32mpandas/_libs/index.pyx\u001b[0m in \u001b[0;36mpandas._libs.index.IndexEngine.get_loc\u001b[1;34m()\u001b[0m\n",
      "\u001b[1;32mpandas/_libs/index.pyx\u001b[0m in \u001b[0;36mpandas._libs.index.IndexEngine.get_loc\u001b[1;34m()\u001b[0m\n",
      "\u001b[1;32mpandas/_libs/hashtable_class_helper.pxi\u001b[0m in \u001b[0;36mpandas._libs.hashtable.PyObjectHashTable.get_item\u001b[1;34m()\u001b[0m\n",
      "\u001b[1;32mpandas/_libs/hashtable_class_helper.pxi\u001b[0m in \u001b[0;36mpandas._libs.hashtable.PyObjectHashTable.get_item\u001b[1;34m()\u001b[0m\n",
      "\u001b[1;31mKeyError\u001b[0m: 'Action'",
      "\nDuring handling of the above exception, another exception occurred:\n",
      "\u001b[1;31mKeyError\u001b[0m                                  Traceback (most recent call last)",
      "\u001b[1;32m<ipython-input-33-f86b509f6d3e>\u001b[0m in \u001b[0;36m<module>\u001b[1;34m\u001b[0m\n\u001b[1;32m----> 1\u001b[1;33m \u001b[0mAction_plot\u001b[0m\u001b[1;33m,\u001b[0m \u001b[1;33m=\u001b[0m \u001b[0mplt\u001b[0m\u001b[1;33m.\u001b[0m\u001b[0mplot\u001b[0m\u001b[1;33m(\u001b[0m\u001b[0mgroup_genre_T\u001b[0m\u001b[1;33m.\u001b[0m\u001b[0mindex\u001b[0m\u001b[1;33m,\u001b[0m \u001b[0mgroup_genre_T\u001b[0m\u001b[1;33m[\u001b[0m\u001b[1;34m'Action'\u001b[0m\u001b[1;33m]\u001b[0m\u001b[1;33m)\u001b[0m\u001b[1;33m\u001b[0m\u001b[1;33m\u001b[0m\u001b[0m\n\u001b[0m\u001b[0;32m      2\u001b[0m \u001b[0mComedy_plot\u001b[0m\u001b[1;33m,\u001b[0m \u001b[1;33m=\u001b[0m \u001b[0mplt\u001b[0m\u001b[1;33m.\u001b[0m\u001b[0mplot\u001b[0m\u001b[1;33m(\u001b[0m\u001b[0mgroup_genre_T\u001b[0m\u001b[1;33m.\u001b[0m\u001b[0mindex\u001b[0m\u001b[1;33m,\u001b[0m \u001b[0mgroup_genre_T\u001b[0m\u001b[1;33m[\u001b[0m\u001b[1;34m'Comedy'\u001b[0m\u001b[1;33m]\u001b[0m\u001b[1;33m)\u001b[0m\u001b[1;33m\u001b[0m\u001b[1;33m\u001b[0m\u001b[0m\n\u001b[0;32m      3\u001b[0m \u001b[0mDrama_plot\u001b[0m\u001b[1;33m,\u001b[0m \u001b[1;33m=\u001b[0m \u001b[0mplt\u001b[0m\u001b[1;33m.\u001b[0m\u001b[0mplot\u001b[0m\u001b[1;33m(\u001b[0m\u001b[0mgroup_genre_T\u001b[0m\u001b[1;33m.\u001b[0m\u001b[0mindex\u001b[0m\u001b[1;33m,\u001b[0m \u001b[0mgroup_genre_T\u001b[0m\u001b[1;33m[\u001b[0m\u001b[1;34m'Drama'\u001b[0m\u001b[1;33m]\u001b[0m\u001b[1;33m)\u001b[0m\u001b[1;33m\u001b[0m\u001b[1;33m\u001b[0m\u001b[0m\n\u001b[0;32m      4\u001b[0m \u001b[0mThriller_plot\u001b[0m\u001b[1;33m,\u001b[0m \u001b[1;33m=\u001b[0m \u001b[0mplt\u001b[0m\u001b[1;33m.\u001b[0m\u001b[0mplot\u001b[0m\u001b[1;33m(\u001b[0m\u001b[0mgroup_genre_T\u001b[0m\u001b[1;33m.\u001b[0m\u001b[0mindex\u001b[0m\u001b[1;33m,\u001b[0m \u001b[0mgroup_genre_T\u001b[0m\u001b[1;33m[\u001b[0m\u001b[1;34m'Thriller'\u001b[0m\u001b[1;33m]\u001b[0m\u001b[1;33m)\u001b[0m\u001b[1;33m\u001b[0m\u001b[1;33m\u001b[0m\u001b[0m\n\u001b[0;32m      5\u001b[0m \u001b[1;33m\u001b[0m\u001b[0m\n",
      "\u001b[1;32m~\\Anaconda3\\lib\\site-packages\\pandas\\core\\frame.py\u001b[0m in \u001b[0;36m__getitem__\u001b[1;34m(self, key)\u001b[0m\n\u001b[0;32m   2925\u001b[0m             \u001b[1;32mif\u001b[0m \u001b[0mself\u001b[0m\u001b[1;33m.\u001b[0m\u001b[0mcolumns\u001b[0m\u001b[1;33m.\u001b[0m\u001b[0mnlevels\u001b[0m \u001b[1;33m>\u001b[0m \u001b[1;36m1\u001b[0m\u001b[1;33m:\u001b[0m\u001b[1;33m\u001b[0m\u001b[1;33m\u001b[0m\u001b[0m\n\u001b[0;32m   2926\u001b[0m                 \u001b[1;32mreturn\u001b[0m \u001b[0mself\u001b[0m\u001b[1;33m.\u001b[0m\u001b[0m_getitem_multilevel\u001b[0m\u001b[1;33m(\u001b[0m\u001b[0mkey\u001b[0m\u001b[1;33m)\u001b[0m\u001b[1;33m\u001b[0m\u001b[1;33m\u001b[0m\u001b[0m\n\u001b[1;32m-> 2927\u001b[1;33m             \u001b[0mindexer\u001b[0m \u001b[1;33m=\u001b[0m \u001b[0mself\u001b[0m\u001b[1;33m.\u001b[0m\u001b[0mcolumns\u001b[0m\u001b[1;33m.\u001b[0m\u001b[0mget_loc\u001b[0m\u001b[1;33m(\u001b[0m\u001b[0mkey\u001b[0m\u001b[1;33m)\u001b[0m\u001b[1;33m\u001b[0m\u001b[1;33m\u001b[0m\u001b[0m\n\u001b[0m\u001b[0;32m   2928\u001b[0m             \u001b[1;32mif\u001b[0m \u001b[0mis_integer\u001b[0m\u001b[1;33m(\u001b[0m\u001b[0mindexer\u001b[0m\u001b[1;33m)\u001b[0m\u001b[1;33m:\u001b[0m\u001b[1;33m\u001b[0m\u001b[1;33m\u001b[0m\u001b[0m\n\u001b[0;32m   2929\u001b[0m                 \u001b[0mindexer\u001b[0m \u001b[1;33m=\u001b[0m \u001b[1;33m[\u001b[0m\u001b[0mindexer\u001b[0m\u001b[1;33m]\u001b[0m\u001b[1;33m\u001b[0m\u001b[1;33m\u001b[0m\u001b[0m\n",
      "\u001b[1;32m~\\Anaconda3\\lib\\site-packages\\pandas\\core\\indexes\\base.py\u001b[0m in \u001b[0;36mget_loc\u001b[1;34m(self, key, method, tolerance)\u001b[0m\n\u001b[0;32m   2657\u001b[0m                 \u001b[1;32mreturn\u001b[0m \u001b[0mself\u001b[0m\u001b[1;33m.\u001b[0m\u001b[0m_engine\u001b[0m\u001b[1;33m.\u001b[0m\u001b[0mget_loc\u001b[0m\u001b[1;33m(\u001b[0m\u001b[0mkey\u001b[0m\u001b[1;33m)\u001b[0m\u001b[1;33m\u001b[0m\u001b[1;33m\u001b[0m\u001b[0m\n\u001b[0;32m   2658\u001b[0m             \u001b[1;32mexcept\u001b[0m \u001b[0mKeyError\u001b[0m\u001b[1;33m:\u001b[0m\u001b[1;33m\u001b[0m\u001b[1;33m\u001b[0m\u001b[0m\n\u001b[1;32m-> 2659\u001b[1;33m                 \u001b[1;32mreturn\u001b[0m \u001b[0mself\u001b[0m\u001b[1;33m.\u001b[0m\u001b[0m_engine\u001b[0m\u001b[1;33m.\u001b[0m\u001b[0mget_loc\u001b[0m\u001b[1;33m(\u001b[0m\u001b[0mself\u001b[0m\u001b[1;33m.\u001b[0m\u001b[0m_maybe_cast_indexer\u001b[0m\u001b[1;33m(\u001b[0m\u001b[0mkey\u001b[0m\u001b[1;33m)\u001b[0m\u001b[1;33m)\u001b[0m\u001b[1;33m\u001b[0m\u001b[1;33m\u001b[0m\u001b[0m\n\u001b[0m\u001b[0;32m   2660\u001b[0m         \u001b[0mindexer\u001b[0m \u001b[1;33m=\u001b[0m \u001b[0mself\u001b[0m\u001b[1;33m.\u001b[0m\u001b[0mget_indexer\u001b[0m\u001b[1;33m(\u001b[0m\u001b[1;33m[\u001b[0m\u001b[0mkey\u001b[0m\u001b[1;33m]\u001b[0m\u001b[1;33m,\u001b[0m \u001b[0mmethod\u001b[0m\u001b[1;33m=\u001b[0m\u001b[0mmethod\u001b[0m\u001b[1;33m,\u001b[0m \u001b[0mtolerance\u001b[0m\u001b[1;33m=\u001b[0m\u001b[0mtolerance\u001b[0m\u001b[1;33m)\u001b[0m\u001b[1;33m\u001b[0m\u001b[1;33m\u001b[0m\u001b[0m\n\u001b[0;32m   2661\u001b[0m         \u001b[1;32mif\u001b[0m \u001b[0mindexer\u001b[0m\u001b[1;33m.\u001b[0m\u001b[0mndim\u001b[0m \u001b[1;33m>\u001b[0m \u001b[1;36m1\u001b[0m \u001b[1;32mor\u001b[0m \u001b[0mindexer\u001b[0m\u001b[1;33m.\u001b[0m\u001b[0msize\u001b[0m \u001b[1;33m>\u001b[0m \u001b[1;36m1\u001b[0m\u001b[1;33m:\u001b[0m\u001b[1;33m\u001b[0m\u001b[1;33m\u001b[0m\u001b[0m\n",
      "\u001b[1;32mpandas/_libs/index.pyx\u001b[0m in \u001b[0;36mpandas._libs.index.IndexEngine.get_loc\u001b[1;34m()\u001b[0m\n",
      "\u001b[1;32mpandas/_libs/index.pyx\u001b[0m in \u001b[0;36mpandas._libs.index.IndexEngine.get_loc\u001b[1;34m()\u001b[0m\n",
      "\u001b[1;32mpandas/_libs/hashtable_class_helper.pxi\u001b[0m in \u001b[0;36mpandas._libs.hashtable.PyObjectHashTable.get_item\u001b[1;34m()\u001b[0m\n",
      "\u001b[1;32mpandas/_libs/hashtable_class_helper.pxi\u001b[0m in \u001b[0;36mpandas._libs.hashtable.PyObjectHashTable.get_item\u001b[1;34m()\u001b[0m\n",
      "\u001b[1;31mKeyError\u001b[0m: 'Action'"
     ]
    }
   ],
   "source": [
    "Action_plot, = plt.plot(group_genre_T.index, group_genre_T['Action'])\n",
    "Comedy_plot, = plt.plot(group_genre_T.index, group_genre_T['Comedy'])\n",
    "Drama_plot, = plt.plot(group_genre_T.index, group_genre_T['Drama'])\n",
    "Thriller_plot, = plt.plot(group_genre_T.index, group_genre_T['Thriller'])\n",
    "\n",
    "plt.xlabel('Release Year (2009-2019)')\n",
    "plt.ylabel('Movie Genre Counts')\n",
    "plt.title('Genre Counts over Decade')\n",
    "plt.legend((Action_plot,Comedy_plot,Drama_plot,Thriller_plot),('Action','Comedy','Drama','Thriller'),loc=2)\n",
    "\n",
    "plt.savefig(\"Outputs/Release_vs_Genre.png\")\n",
    "plt.show()"
   ]
  },
  {
   "cell_type": "code",
   "execution_count": null,
   "metadata": {},
   "outputs": [],
   "source": [
    "#Drop the null values in the subset\n",
    "set1=[\"Title\",\"Popularity\",\"Run Time\",\"Vote Average\",\"IMDB Rating\",\"Metascore\"]\n",
    "#Check data \n",
    "df_runtime=df[set1].dropna().reset_index(drop=True)\n",
    "df_runtime.head()"
   ]
  },
  {
   "cell_type": "code",
   "execution_count": null,
   "metadata": {},
   "outputs": [],
   "source": []
  },
  {
   "cell_type": "code",
   "execution_count": null,
   "metadata": {},
   "outputs": [],
   "source": []
  },
  {
   "cell_type": "code",
   "execution_count": null,
   "metadata": {},
   "outputs": [],
   "source": [
    "#Remove the outlier\n",
    "df_runtime=df_runtime.loc[df_runtime['Popularity']!=df_runtime['Popularity'].max()]"
   ]
  },
  {
   "cell_type": "code",
   "execution_count": null,
   "metadata": {},
   "outputs": [],
   "source": [
    "#set axis and tick locations\n",
    "x_axis=df_runtime[\"Run Time\"]\n",
    "plt.figure(figsize=(12,8))\n",
    "plt.scatter(x_axis,df_runtime[\"Popularity\"], facecolor = \"darkviolet\", edgecolor = \"grey\", alpha = 0.2)\n",
    "# Set a Title and labels\n",
    "plt.title(\"Popularity vs. Run Time\")\n",
    "plt.xlabel(\"Run Time\")\n",
    "plt.ylabel(\"Popularity\")\n",
    "#plt.tight_layout()\n",
    "plt.savefig(\"output_data/POPvsRT.png\")\n",
    "plt.show()"
   ]
  },
  {
   "cell_type": "code",
   "execution_count": null,
   "metadata": {},
   "outputs": [],
   "source": [
    "#set axis and tick locations\n",
    "x_axis=df_runtime[\"Run Time\"]\n",
    "plt.figure(figsize=(12,8))\n",
    "plt.scatter(x_axis,df_runtime[\"IMDB Rating\"], facecolor = \"deeppink\", edgecolor = \"grey\", alpha = 0.2)\n",
    "# Set a Title and labels\n",
    "plt.title(\"omdb_imdbRating vs. Run Time\")\n",
    "plt.xlabel(\"Run Time\")\n",
    "plt.ylabel(\"omdb_imdbRating\")\n",
    "#plt.tight_layout()\n",
    "plt.savefig(\"output_data/RatingvsRT.png\")\n",
    "plt.show()"
   ]
  },
  {
   "cell_type": "code",
   "execution_count": null,
   "metadata": {},
   "outputs": [],
   "source": [
    "#Drop the null values in the subset\n",
    "set2=[\"Title\",\"Budget\",\"Revenue\",\"Popularity\",\"IMDB Rating\",\"IMDB Votes\",\"Genre1\",\"Genre2\",\"Genre3\",\"Genre4\",\"Genre5\",\"Genre6\",\"Genre7\"]\n",
    "set3=[\"Title\",\"Popularity\",\"IMDB Rating\",\"IMDB Votes\",\"Budget\",\"Revenue\"]\n",
    "df_set2=df[set2].dropna(subset=(set3)).set_index(\"Title\")\n",
    "df_set2.head()"
   ]
  },
  {
   "cell_type": "code",
   "execution_count": null,
   "metadata": {},
   "outputs": [],
   "source": []
  },
  {
   "cell_type": "code",
   "execution_count": null,
   "metadata": {},
   "outputs": [],
   "source": [
    "#Collect Data Based on Genre\n",
    "df_genre1_count=df_set2.groupby(\"Genre1\")[\"Popularity\"].count().reset_index(name=\"Counts1\").set_index(\"Genre1\")\n",
    "df_genre1_pop=df_set2.groupby(\"Genre1\")[\"Popularity\"].sum().reset_index(name=\"Popularity Sum1\").set_index('Genre1')\n",
    "df_genre1_imdbr=df_set2.groupby(\"Genre1\")[\"IMDB Rating\"].sum().reset_index(name=\"IMDB Rating Sum1\").set_index('Genre1')\n",
    "df_genre1_budget=df_set2.groupby(\"Genre1\")[\"Budget\"].sum().reset_index(name=\"Budget Sum1\").set_index('Genre1')\n",
    "df_genre1_revenue=df_set2.groupby(\"Genre1\")[\"Revenue\"].sum().reset_index(name=\"Revenue Sum1\").set_index('Genre1')\n",
    "\n",
    "df_genre2_count=df_set2.groupby(\"Genre2\")[\"Popularity\"].count().reset_index(name=\"Counts2\").set_index(\"Genre2\")\n",
    "df_genre2_pop=df_set2.groupby(\"Genre2\")[\"Popularity\"].sum().reset_index(name=\"Popularity Sum2\").set_index('Genre2')\n",
    "df_genre2_imdbr=df_set2.groupby(\"Genre2\")[\"IMDB Rating\"].sum().reset_index(name=\"IMDB Rating Sum2\").set_index('Genre2')\n",
    "df_genre2_budget=df_set2.groupby(\"Genre2\")[\"Budget\"].sum().reset_index(name=\"Budget Sum2\").set_index('Genre2')\n",
    "df_genre2_revenue=df_set2.groupby(\"Genre2\")[\"Revenue\"].sum().reset_index(name=\"Revenue Sum2\").set_index('Genre2')\n",
    "\n",
    "df_genre3_count=df_set2.groupby(\"Genre3\")[\"Popularity\"].count().reset_index(name=\"Counts3\").set_index(\"Genre3\")\n",
    "df_genre3_pop=df_set2.groupby(\"Genre3\")[\"Popularity\"].sum().reset_index(name=\"Popularity Sum3\").set_index('Genre3')\n",
    "df_genre3_imdbr=df_set2.groupby(\"Genre3\")[\"IMDB Rating\"].sum().reset_index(name=\"IMDB Rating Sum3\").set_index('Genre3')\n",
    "df_genre3_budget=df_set2.groupby(\"Genre3\")[\"Budget\"].sum().reset_index(name=\"Budget Sum3\").set_index('Genre3')\n",
    "df_genre3_revenue=df_set2.groupby(\"Genre3\")[\"Revenue\"].sum().reset_index(name=\"Revenue Sum3\").set_index('Genre3')\n",
    "\n",
    "df_genre4_count=df_set2.groupby(\"Genre4\")[\"Popularity\"].count().reset_index(name=\"Counts4\").set_index(\"Genre4\")\n",
    "df_genre4_pop=df_set2.groupby(\"Genre4\")[\"Popularity\"].sum().reset_index(name=\"Popularity Sum4\").set_index('Genre4')\n",
    "df_genre4_imdbr=df_set2.groupby(\"Genre4\")[\"IMDB Rating\"].sum().reset_index(name=\"IMDB Rating Sum4\").set_index('Genre4')\n",
    "df_genre4_budget=df_set2.groupby(\"Genre4\")[\"Budget\"].sum().reset_index(name=\"Budget Sum4\").set_index('Genre4')\n",
    "df_genre4_revenue=df_set2.groupby(\"Genre4\")[\"Revenue\"].sum().reset_index(name=\"Revenue Sum4\").set_index('Genre4')\n",
    "\n",
    "df_genre5_count=df_set2.groupby(\"Genre5\")[\"Popularity\"].count().reset_index(name=\"Counts5\").set_index(\"Genre5\")\n",
    "df_genre5_pop=df_set2.groupby(\"Genre5\")[\"Popularity\"].sum().reset_index(name=\"Popularity Sum5\").set_index('Genre5')\n",
    "df_genre5_imdbr=df_set2.groupby(\"Genre5\")[\"IMDB Rating\"].sum().reset_index(name=\"IMDB Rating Sum5\").set_index('Genre5')\n",
    "df_genre5_budget=df_set2.groupby(\"Genre5\")[\"Budget\"].sum().reset_index(name=\"Budget Sum5\").set_index('Genre5')\n",
    "df_genre5_revenue=df_set2.groupby(\"Genre5\")[\"Revenue\"].sum().reset_index(name=\"Revenue Sum5\").set_index('Genre5')\n",
    "\n",
    "df_genre6_count=df_set2.groupby(\"Genre6\")[\"Popularity\"].count().reset_index(name=\"Counts6\").set_index(\"Genre6\")\n",
    "df_genre6_pop=df_set2.groupby(\"Genre6\")[\"Popularity\"].sum().reset_index(name=\"Popularity Sum6\").set_index('Genre6')\n",
    "df_genre6_imdbr=df_set2.groupby(\"Genre6\")[\"IMDB Rating\"].sum().reset_index(name=\"IMDB Rating Sum6\").set_index('Genre6')\n",
    "df_genre6_budget=df_set2.groupby(\"Genre6\")[\"Budget\"].sum().reset_index(name=\"Budget Sum6\").set_index('Genre6')\n",
    "df_genre6_revenue=df_set2.groupby(\"Genre6\")[\"Revenue\"].sum().reset_index(name=\"Revenue Sum6\").set_index('Genre6')\n",
    "\n",
    "df_genre7_count=df_set2.groupby(\"Genre7\")[\"Popularity\"].count().reset_index(name=\"Counts7\").set_index(\"Genre7\")\n",
    "df_genre7_pop=df_set2.groupby(\"Genre7\")[\"Popularity\"].sum().reset_index(name=\"Popularity Sum7\").set_index('Genre7')\n",
    "df_genre7_imdbr=df_set2.groupby(\"Genre7\")[\"IMDB Rating\"].sum().reset_index(name=\"IMDB Rating Sum7\").set_index('Genre7')\n",
    "df_genre7_budget=df_set2.groupby(\"Genre7\")[\"Budget\"].sum().reset_index(name=\"Budget Sum7\").set_index('Genre7')\n",
    "df_genre7_revenue=df_set2.groupby(\"Genre7\")[\"Revenue\"].sum().reset_index(name=\"Revenue Sum7\").set_index('Genre7')\n",
    "\n",
    "df_genre=pd.concat([df_genre1_count,df_genre1_pop,df_genre1_imdbr,df_genre1_budget,df_genre1_revenue,\n",
    "                    df_genre2_count,df_genre2_pop,df_genre2_imdbr,df_genre2_budget,df_genre2_revenue,\n",
    "                    df_genre3_count,df_genre3_pop,df_genre3_imdbr,df_genre3_budget,df_genre3_revenue,\n",
    "                    df_genre4_count,df_genre4_pop,df_genre4_imdbr,df_genre4_budget,df_genre4_revenue,\n",
    "                    df_genre5_count,df_genre5_pop,df_genre5_imdbr,df_genre5_budget,df_genre5_revenue,\n",
    "                    df_genre6_count,df_genre6_pop,df_genre6_imdbr,df_genre6_budget,df_genre6_revenue,\n",
    "                    df_genre7_count,df_genre7_pop,df_genre7_imdbr,df_genre7_budget,df_genre7_revenue],axis=1)"
   ]
  },
  {
   "cell_type": "code",
   "execution_count": null,
   "metadata": {},
   "outputs": [],
   "source": [
    "df_genre_count=df_genre[[\"Counts1\",\"Counts2\",\"Counts3\",\"Counts4\",\"Counts5\",\"Counts6\",\"Counts7\"]].sum(axis=1)\n",
    "df_genre_count=df_genre_count.reset_index(name=\"Counts\").set_index('index')\n",
    "\n",
    "df_genre_Popularity=df_genre[[\"Popularity Sum1\",\"Popularity Sum2\",\"Popularity Sum3\",\"Popularity Sum4\",\n",
    "                              \"Popularity Sum5\",\"Popularity Sum6\",\"Popularity Sum7\"]].sum(axis=1)/df_genre_count[\"Counts\"]\n",
    "df_genre_Popularity=df_genre_Popularity.reset_index(name=\"Average Popularity\").set_index('index')\n",
    "\n",
    "df_genre_imdbr=df_genre[[\"IMDB Rating Sum1\",\"IMDB Rating Sum2\",\"IMDB Rating Sum3\",\"IMDB Rating Sum4\",\n",
    "                         \"IMDB Rating Sum5\",\"IMDB Rating Sum6\",\"IMDB Rating Sum7\"]].sum(axis=1)/df_genre_count[\"Counts\"]\n",
    "df_genre_imdbr=df_genre_imdbr.reset_index(name=\"Average IMDB Rating\").set_index('index')\n",
    "\n",
    "df_genre_budget=df_genre[[\"Budget Sum1\",\"Budget Sum2\",\"Budget Sum3\",\"Budget Sum4\",\n",
    "                         \"Budget Sum5\",\"Budget Sum6\",\"Budget Sum7\"]].sum(axis=1)/df_genre_count[\"Counts\"]\n",
    "df_genre_budget=df_genre_budget.reset_index(name=\"Average Budget\").set_index('index')\n",
    "\n",
    "df_genre_revenue=df_genre[[\"Revenue Sum1\",\"Revenue Sum2\",\"Revenue Sum3\",\"Revenue Sum4\",\n",
    "                         \"Revenue Sum5\",\"Revenue Sum6\",\"Revenue Sum7\"]].sum(axis=1)/df_genre_count[\"Counts\"]\n",
    "df_genre_revenue=df_genre_revenue.reset_index(name=\"Average Revenue\").set_index('index')\n",
    "\n",
    "df_genre_profit=df_genre_revenue[\"Average Revenue\"]-df_genre_budget[\"Average Budget\"]\n",
    "df_genre_profit=df_genre_profit.reset_index(name=\"Average Profit\").set_index('index')\n",
    "\n",
    "genre_table=pd.concat([df_genre_count,df_genre_Popularity,df_genre_imdbr,df_genre_budget,df_genre_revenue,df_genre_profit],axis=1).reset_index()\n",
    "genre_table=genre_table.rename(columns={\"index\":\"Genre\"})\n",
    "genre_table.head()"
   ]
  },
  {
   "cell_type": "code",
   "execution_count": null,
   "metadata": {},
   "outputs": [],
   "source": [
    "#set axis and tick locations\n",
    "x_axis=genre_table[\"Genre\"]\n",
    "plt.figure(figsize=(12,8))\n",
    "plt.bar(x_axis,genre_table[\"Counts\"],color=\"orangered\")\n",
    "# Set a Title and labels\n",
    "plt.title(\"Movie Numbers vs. Genre\")\n",
    "plt.xlabel(\"Genres\")\n",
    "plt.ylabel(\"Total Movies\")\n",
    "plt.xticks(rotation=90)\n",
    "#plt.tight_layout()\n",
    "plt.savefig(\"output_data/num_movie vs Genre.png\")\n",
    "plt.show()"
   ]
  },
  {
   "cell_type": "code",
   "execution_count": null,
   "metadata": {},
   "outputs": [],
   "source": []
  },
  {
   "cell_type": "code",
   "execution_count": null,
   "metadata": {},
   "outputs": [],
   "source": [
    "#set axis and tick locations\n",
    "x_axis=genre_table[\"Genre\"]\n",
    "plt.figure(figsize=(12,8))\n",
    "plt.bar(x_axis,genre_table[\"Average Popularity\"],genre_table[\"Average IMDB Rating\"],color=\"red\",color=\"blue\")\n",
    "# Set a Title and labels\n",
    "plt.title(\"Movie Numbers vs. Genre\")\n",
    "plt.xlabel(\"Genres\")\n",
    "plt.ylabel(\"Total Movies\")\n",
    "plt.xticks(rotation=90)\n",
    "#plt.tight_layout()\n",
    "plt.savefig(\"output_data/pop&Rating vs Genre.png\")\n",
    "plt.show()"
   ]
  },
  {
   "cell_type": "code",
   "execution_count": null,
   "metadata": {},
   "outputs": [],
   "source": [
    "# #split actor columns \n",
    "# actor=df.Actors.str.split(\",\")\n",
    "# df_actor=pd.DataFrame(actor.values.tolist())\n",
    "# df_actor.head()"
   ]
  },
  {
   "cell_type": "code",
   "execution_count": null,
   "metadata": {},
   "outputs": [],
   "source": [
    "# #add columns name to actors\n",
    "# df_actor.columns=[\"Actor 1\",\"Actor 2\",\"Actor 3\",\"Actor 4\"]\n",
    "# df_actor.head(1)"
   ]
  },
  {
   "cell_type": "code",
   "execution_count": null,
   "metadata": {},
   "outputs": [],
   "source": [
    "# df_actor_a=df[[\"Title\", \"Budget\",\"Popularity\",\"Revenue\",\"Director\"]]\n",
    "# df_actor_analysis=pd.concat([df_actor_a,df_actor],axis=1)\n",
    "# df_actor_r1=df_actor_analysis.groupby(\"Actor 1\").Revenue.sum().reset_index(name=\"Revenue 1\").set_index('Actor 1')\n",
    "# df_actor_r2=df_actor_analysis.groupby(\"Actor 2\").Revenue.sum().reset_index(name=\"Revenue 2\").set_index('Actor 2')\n",
    "# df_actor_r3=df_actor_analysis.groupby(\"Actor 3\").Revenue.sum().reset_index(name=\"Revenue 3\").set_index('Actor 3')\n",
    "# df_actor_r4=df_actor_analysis.groupby(\"Actor 4\").Revenue.sum().reset_index(name=\"Revenue 4\").set_index('Actor 4')\n",
    "# df_actor_rtotal=pd.concat([df_actor_r1,df_actor_r2,df_actor_r3,df_actor_r4],axis=1)\n",
    "# df_actor_rtotal=df_actor_rtotal.sum(axis=1).reset_index(name=\"Total Revenue\").set_index('index').sort_values(by=\"Total Revenue\",ascending=False)\n",
    "# df_actor_rtotal.index.name=None\n",
    "# df_actor_rtotal.head()"
   ]
  },
  {
   "cell_type": "code",
   "execution_count": null,
   "metadata": {},
   "outputs": [],
   "source": []
  }
 ],
 "metadata": {
  "kernelspec": {
   "display_name": "Python 3",
   "language": "python",
   "name": "python3"
  },
  "language_info": {
   "codemirror_mode": {
    "name": "ipython",
    "version": 3
   },
   "file_extension": ".py",
   "mimetype": "text/x-python",
   "name": "python",
   "nbconvert_exporter": "python",
   "pygments_lexer": "ipython3",
   "version": "3.7.3"
  }
 },
 "nbformat": 4,
 "nbformat_minor": 4
}
